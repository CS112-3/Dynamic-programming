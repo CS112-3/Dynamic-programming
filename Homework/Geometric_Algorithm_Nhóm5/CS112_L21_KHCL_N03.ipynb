{
  "nbformat": 4,
  "nbformat_minor": 0,
  "metadata": {
    "colab": {
      "name": "CS112_L21_KHCL_N03.ipynb",
      "provenance": [],
      "collapsed_sections": [],
      "authorship_tag": "ABX9TyMHscdTLV79wB9oZo0FDK4h",
      "include_colab_link": true
    },
    "kernelspec": {
      "name": "python3",
      "display_name": "Python 3"
    },
    "language_info": {
      "name": "python"
    }
  },
  "cells": [
    {
      "cell_type": "markdown",
      "metadata": {
        "id": "view-in-github",
        "colab_type": "text"
      },
      "source": [
        "<a href=\"https://colab.research.google.com/github/CS112-3/Dynamic-programming/blob/main/Homework/Geometric_Algorithm_Nh%C3%B3m5/CS112_L21_KHCL_N03.ipynb\" target=\"_parent\"><img src=\"https://colab.research.google.com/assets/colab-badge.svg\" alt=\"Open In Colab\"/></a>"
      ]
    },
    {
      "cell_type": "code",
      "metadata": {
        "colab": {
          "base_uri": "https://localhost:8080/"
        },
        "id": "d2O27qTAwO7s",
        "outputId": "4620db13-ef03-4bb1-fc9f-0e725426ff3b"
      },
      "source": [
        "def normalize(List):\n",
        "    for i in range(0,len(List)):\n",
        "        List[i] = int(List[i])%1000000007\n",
        "\n",
        "def Compute(p1,p2,p3):\n",
        "    temp = (float(p2[1] - p1[1]) * (p3[0] - p2[0])) - \\\n",
        "           (float(p2[0] - p1[0]) * (p3[1] - p2[1]))\n",
        "    if temp > 0:\n",
        "        print(\"Clockwise\")\n",
        "    elif temp < 0:\n",
        "        print(\"CounterClockwise\")\n",
        "    else:\n",
        "        print(\"Colinear\")\n",
        "\n",
        "input_string = input()\n",
        "List0=input_string.split()\n",
        "input_string1 = input()\n",
        "List1=input_string1.split()\n",
        "input_string2 = input()\n",
        "List2=input_string2.split()\n",
        "normalize(List0)\n",
        "normalize(List1)\n",
        "normalize(List2)\n",
        "Compute(List0,List1,List2)\n",
        "\n",
        "\n",
        "\n"
      ],
      "execution_count": null,
      "outputs": [
        {
          "output_type": "stream",
          "text": [
            "0 0\n",
            "4 4\n",
            "1 2\n",
            "CounterClockwise\n"
          ],
          "name": "stdout"
        }
      ]
    }
  ]
}