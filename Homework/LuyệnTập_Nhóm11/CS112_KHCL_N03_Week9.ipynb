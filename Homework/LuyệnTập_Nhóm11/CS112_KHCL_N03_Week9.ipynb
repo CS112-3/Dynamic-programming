{
  "nbformat": 4,
  "nbformat_minor": 0,
  "metadata": {
    "colab": {
      "name": "Untitled4.ipynb",
      "provenance": [],
      "authorship_tag": "ABX9TyMUvDUG2JdCpfOAz8XmbihF",
      "include_colab_link": true
    },
    "kernelspec": {
      "name": "python3",
      "display_name": "Python 3"
    },
    "language_info": {
      "name": "python"
    }
  },
  "cells": [
    {
      "cell_type": "markdown",
      "metadata": {
        "id": "view-in-github",
        "colab_type": "text"
      },
      "source": [
        "<a href=\"https://colab.research.google.com/github/CS112-3/Dynamic-programming/blob/main/Homework/Week9/CS112_KHCL_N03_Week9.ipynb\" target=\"_parent\"><img src=\"https://colab.research.google.com/assets/colab-badge.svg\" alt=\"Open In Colab\"/></a>"
      ]
    },
    {
      "cell_type": "code",
      "metadata": {
        "id": "LNfgdQawc9M1"
      },
      "source": [
        "\n",
        "def initialize(L,R,n,a):\n",
        "    S=[]\n",
        "    for i in range(n+1):\n",
        "        L[i]=i\n",
        "        while len(S) != 0 and S[-1] > i - a[i]:\n",
        "            L[i]=min(L[i],L[S[-1]],S.pop())\n",
        "        S.append(i)\n",
        "    S=[]\n",
        "    temp = n\n",
        "    while temp >= 1 :\n",
        "        R[temp]=temp\n",
        "        while len(S) != 0 and S[-1] < temp + a[temp]:\n",
        "            R[temp]=max(R[temp],R[S[-1]],S[-1])\n",
        "            S.pop()\n",
        "        S.append(temp)\n",
        "        temp = temp -1\n",
        "\n",
        "def solve(L,R,n,cache,trace) :\n",
        "    for i in range(n+1):\n",
        "        cache[i]=i\n",
        "        trace[i]=-i\n",
        "    S=[]\n",
        "    for i in range(n+1):\n",
        "        if cache[i] > cache[L[i]-1] +1 :\n",
        "            cache[i]=cache[L[i]-1]+1\n",
        "            trace[i]=-(L[i])\n",
        "        while len(S)!=0 and R[S[-1]] < i :\n",
        "            S.pop()\n",
        "        if len(S) != 0 and cache[i] > cache[S[-1] - 1] + 1 :\n",
        "            cache[i] = cache[S[-1] - 1] + 1\n",
        "            trace[i] = S[-1]\n",
        "        if len(S)==0 or (cache[S[-1] - 1] > cache[i - 1]) :\n",
        "            S.append(i)\n",
        "    print(cache[n])\n",
        "    temp = n\n",
        "    s=''\n",
        "    mem=''\n",
        "    flag = False\n",
        "    while(flag == False):\n",
        "        ToAppend=''\n",
        "        if temp < 0:\n",
        "            ToAppend=str(-temp)\n",
        "        else:\n",
        "            ToAppend=str(trace[temp])\n",
        "        if mem == ToAppend :\n",
        "            flag = True\n",
        "            continue\n",
        "        s=s+ToAppend+' '\n",
        "        mem=ToAppend\n",
        "        temp=abs(trace[temp]-1)\n",
        "    print(s)\n",
        "\n",
        "\n",
        "n = int(input())\n",
        "input_string = input()\n",
        "List=input_string.split()\n",
        "List1=[0]*20\n",
        "for i in range(1,len(List)+1):\n",
        "    List1[i] = int(List[i-1])%1000000007\n",
        "L = [0]*20\n",
        "R = [0]*20\n",
        "cache = [0]*20\n",
        "trace = [0]*20\n",
        "initialize(L,R,n,List1)\n",
        "solve(L,R,n,cache,trace)\n"
      ],
      "execution_count": null,
      "outputs": []
    }
  ]
}