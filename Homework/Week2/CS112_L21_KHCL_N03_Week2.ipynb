{
  "nbformat": 4,
  "nbformat_minor": 0,
  "metadata": {
    "colab": {
      "name": "CS112_L21_KHCL_N03_Week2.ipynb",
      "provenance": [],
      "collapsed_sections": []
    },
    "kernelspec": {
      "name": "python3",
      "display_name": "Python 3"
    },
    "language_info": {
      "name": "python"
    }
  },
  "cells": [
    {
      "cell_type": "markdown",
      "metadata": {
        "id": "QOWpHyTJBIoi"
      },
      "source": [
        "<h1>H_index</h1>\n",
        "\n",
        "* Abstraction: Cho n phần tử, tìm một số lớn nhất sao cho số đó phải nhỏ hơn hoặc bằng n và phải xuất hiện n lần hoặc hơn trong mảng\n",
        "\n",
        "* Pattern Recognition: bảng băm\n",
        "* Algorithm designed:\n",
        "\n",
        "  * Tạo một mảng gồm n+1 phần tử chứa giá trị 0\n",
        "  * Lặp từng phần tử của mảng\n",
        "\t    * nếu phần tử lớn hơn n thì tăng giá trị của phần tử thứ n+1 lên 1\n",
        "\t    * còn không thì tăng giá trị của phẩn tử thứ (giá trị phần tử đang truy xuất) lên 1\n",
        "  * Cho y = độ dài của mảng vừa tạo -1\n",
        "  * Cộng dồn giá trị của mảng vừa được tính toán từ ngoài vào\n",
        "  * nếu giá trị  >= y thì hoàn tất \n",
        "  * còn không thì y=y-1\n",
        "* Đánh giá độ phức tạp thuật toán:O(n)\n",
        "\n",
        "<h1>KHÓA SỐ</h1>\n",
        "\n",
        "* Abstraction:Cho một xâu, xuất ra một xâu lớn nhất và phải chia hết cho 3 ( có thể xóa phần tử trong xâu để có thể được chia hết cho 3)\n",
        "\n",
        "* Pattern Recognition:sắp xếp, tìm kiếm phần tử mảng\n",
        "* Algorithm designed:\n",
        "  * Sắp xếp mảng từ lớn đến bé\n",
        "  * Nếu tổng của các phần tử mảng chia hết cho 3 thì xuất mảng \n",
        "  * Còn không thì \n",
        "\t* Tạo một mảng lưu vị trí mảng cần xóa A\n",
        "\t* Lặp từng phần tử của mảng\n",
        "          Nếu (giá trị phần tử % 3) == (tổng của các phần tử mảng % 3)\n",
        "            xóa phần tử đó\n",
        "            Xuất mảng\n",
        "          Nếu độ dài của A != 2 và (3-(tổng của các phần tử mảng % 3) ) == (giá trị phần tử % 3)\n",
        "            Thêm vị trí phần tử đó vào mảng A\n",
        "\n",
        "  * Xóa phần tử mảng thứ A[0] và A[1]\n",
        "  * Xuất mảng\n",
        "* Đánh giá độ phức tạp thuật toán:O(n)"
      ]
    }
  ]
}