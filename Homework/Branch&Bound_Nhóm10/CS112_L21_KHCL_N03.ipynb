{
  "nbformat": 4,
  "nbformat_minor": 0,
  "metadata": {
    "colab": {
      "name": "CS112_L21_KHCL_N3ipynb",
      "provenance": [],
      "collapsed_sections": []
    },
    "kernelspec": {
      "name": "python3",
      "display_name": "Python 3"
    },
    "language_info": {
      "name": "python"
    }
  },
  "cells": [
    {
      "cell_type": "code",
      "metadata": {
        "id": "8cN0jE_AEE3a"
      },
      "source": [
        "def permute(a, results):\n",
        "    if len(a) == 1:\n",
        "        results.insert(len(results), a)\n",
        "    else:\n",
        "        for i in range(0, len(a)):\n",
        "            element = a[i]\n",
        "            a_copy = [a[j] for j in range(0, len(a)) if j != i]\n",
        "            subresults = []\n",
        "            permute(a_copy, subresults)\n",
        "            for subresult in subresults:\n",
        "                result = [element] + subresult\n",
        "                results.insert(len(results), result)\n",
        "results = []\n",
        "matrix=[]\n",
        "R = int(input())\n",
        "for i in range (0,R):\n",
        "    matrix.append( list(map(int, input().split())))\n",
        "permute(range(len(matrix)), results)\n",
        "minval = 9999999999999999999999999999\n",
        "for indexes in results:\n",
        "    cost = 0\n",
        "    for row, col in enumerate(indexes):\n",
        "        cost += matrix[row][col]\n",
        "    minval = min(cost, minval)\n",
        "print(minval)\n"
      ],
      "execution_count": null,
      "outputs": []
    }
  ]
}