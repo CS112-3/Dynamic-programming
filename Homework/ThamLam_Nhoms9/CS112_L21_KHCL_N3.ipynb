{
  "nbformat": 4,
  "nbformat_minor": 0,
  "metadata": {
    "colab": {
      "name": "CS112.L21.KHCL_N3.ipynb",
      "provenance": [],
      "authorship_tag": "ABX9TyPuUfpvuYxUyvK651wkMH7L",
      "include_colab_link": true
    },
    "kernelspec": {
      "name": "python3",
      "display_name": "Python 3"
    },
    "language_info": {
      "name": "python"
    }
  },
  "cells": [
    {
      "cell_type": "markdown",
      "metadata": {
        "id": "view-in-github",
        "colab_type": "text"
      },
      "source": [
        "<a href=\"https://colab.research.google.com/github/CS112-3/Dynamic-programming/blob/main/Homework/ThamLam_Nhoms9/CS112_L21_KHCL_N3.ipynb\" target=\"_parent\"><img src=\"https://colab.research.google.com/assets/colab-badge.svg\" alt=\"Open In Colab\"/></a>"
      ]
    },
    {
      "cell_type": "code",
      "metadata": {
        "id": "v-0PwSE8ivvY"
      },
      "source": [
        "\n",
        "\n",
        "def GetInput(n):\n",
        "    input_string1 = input()\n",
        "    v = input_string1.split()\n",
        "\n",
        "    while len(v) != n:\n",
        "        print(\"Out of range\")\n",
        "        input_string1 = input()\n",
        "        v = input_string1.split()\n",
        "    input_string2 = input()\n",
        "    a = input_string2.split()\n",
        "    while len(a) != n:\n",
        "        print(\"Out of range\")\n",
        "        input_string2 = input()\n",
        "        a = input_string2.split()\n",
        "    List = []\n",
        "    for i in range(n):\n",
        "        Temp = [int(v[i])]\n",
        "        List.append(Temp)\n",
        "        List[i].append(int(a[i]))\n",
        "    return List\n",
        "\n",
        "\n",
        "def Max(a, k):\n",
        "    S1 = 0\n",
        "    Hold1 = 0\n",
        "    for i in range(len(a)):\n",
        "        if Hold1 + a[i][1] <= k:\n",
        "            Hold1 = Hold1 + a[i][1]\n",
        "            S1 = S1 + a[i][0]\n",
        "    return S1\n",
        "\n",
        "\n",
        "n = int(input())\n",
        "a = GetInput(n)\n",
        "a.sort(key=lambda x: x[0], reverse=True)\n",
        "k = int(input())\n",
        "print(Max(a, k))\n"
      ],
      "execution_count": null,
      "outputs": []
    }
  ]
}