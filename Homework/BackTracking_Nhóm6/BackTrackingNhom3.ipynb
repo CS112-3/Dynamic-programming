{
  "nbformat": 4,
  "nbformat_minor": 0,
  "metadata": {
    "colab": {
      "name": "BackTrackingNhom3.ipynb",
      "provenance": [],
      "authorship_tag": "ABX9TyMOnSomF2LN6nG1ccxl3UF4",
      "include_colab_link": true
    },
    "kernelspec": {
      "name": "python3",
      "display_name": "Python 3"
    },
    "language_info": {
      "name": "python"
    }
  },
  "cells": [
    {
      "cell_type": "markdown",
      "metadata": {
        "id": "view-in-github",
        "colab_type": "text"
      },
      "source": [
        "<a href=\"https://colab.research.google.com/github/CS112-3/Dynamic-programming/blob/main/Homework/Week5/BackTrackingNhom3.ipynb\" target=\"_parent\"><img src=\"https://colab.research.google.com/assets/colab-badge.svg\" alt=\"Open In Colab\"/></a>"
      ]
    },
    {
      "cell_type": "code",
      "metadata": {
        "id": "HQkhJnPAz3kA"
      },
      "source": [
        "def Help(List,n):\n",
        "    if len(List) == 0:\n",
        "        print(\"False\")\n",
        "        return\n",
        "    try:\n",
        "        for i in range(0, n):\n",
        "            for j in range(i+1, n):\n",
        "\n",
        "                for k in range(i, j+1):\n",
        "                    print(List[k], end=\" \")\n",
        "                print(\"\\n\", end=\"\")\n",
        "    except:\n",
        "        print(\"\\nAn exception occurred\")\n",
        "Temp=int(input())\n",
        "input_string = input()\n",
        "List=input_string.split()\n",
        "for i in range(len(List)):\n",
        "    List[i] = int(List[i])%1000000007\n",
        "Help(List,Temp)"
      ],
      "execution_count": null,
      "outputs": []
    }
  ]
}