{
  "nbformat": 4,
  "nbformat_minor": 0,
  "metadata": {
    "colab": {
      "name": "CS112_L21_KHCL_N03_Week1.ipynb",
      "provenance": [],
      "collapsed_sections": [],
      "authorship_tag": "ABX9TyOi+Se6TXnxPDe8kaayRjJ9",
      "include_colab_link": true
    },
    "kernelspec": {
      "name": "python3",
      "display_name": "Python 3"
    },
    "language_info": {
      "name": "python"
    }
  },
  "cells": [
    {
      "cell_type": "markdown",
      "metadata": {
        "id": "view-in-github",
        "colab_type": "text"
      },
      "source": [
        "<a href=\"https://colab.research.google.com/github/CS112-3/Dynamic-programming/blob/main/Th%E1%BB%B1c%20h%C3%A0nh/T%E1%BA%A3o%20Bi%E1%BB%83n%20%26%20Tr%E1%BA%A1m%20thu%20ph%C3%AD/CS112_L21_KHCL_N03_Week1.ipynb\" target=\"_parent\"><img src=\"https://colab.research.google.com/assets/colab-badge.svg\" alt=\"Open In Colab\"/></a>"
      ]
    },
    {
      "cell_type": "markdown",
      "metadata": {
        "id": "C-8g_I2Wl18d"
      },
      "source": [
        "# Tảo biển\n",
        "---\n",
        "\n",
        "## Abstraction\n",
        "---\n",
        "cho 2 số n và k, cho dãy số 1,2,5,13,34,..., hãy tìm tích của số thứ k trong dãy số và n\n",
        "\n",
        "## Pattern Recognition\n",
        "---\n",
        "iteration\n",
        "\n",
        "## Algorithm Design\n",
        "---\n",
        "<ul type = \"none\" >\n",
        "<li>Nếu n = 0 </li>\n",
        "  <ul>\n",
        "    <li>Trả về 0</li>\n",
        "  </ul>\n",
        "<li>tạo biến a và b, gán giá trị 0 và 1</li>\n",
        "<li>Lặp lại n-1 lần </li>\n",
        "    <ul>\n",
        "      <li>a=b</li>\n",
        "      <li>b=a+b</li>\n",
        "    </ul>\n",
        "trả về b*k\n",
        "  </ul>\n",
        "  \n",
        "## Complexity\n",
        "---\n",
        "  <ul>\n",
        "    <li>time complexity:O(n)</li>\n",
        "    <li>space complexity:O(1)</li>\n",
        "  </ul>"
      ]
    },
    {
      "cell_type": "code",
      "metadata": {
        "id": "LccxEEHJnpR8"
      },
      "source": [
        "import sys\n",
        "sys.setrecursionlimit(10000000)\n",
        "\n",
        "def help(n,k):\n",
        "  if k == 0:\n",
        "    return n\n",
        "  a,b=1,2\n",
        "  for i in range(k-1):\n",
        "      temp = b\n",
        "      b= 3*b-a\n",
        "      a=temp\n",
        "  return (n*b)%1000000007\n",
        "\n",
        "input_string = input()\n",
        "List=input_string.split()\n",
        "for i in range(len(List)):\n",
        "    List[i] = int(List[i])%1000000007\n",
        "sum=help(List[0],List[1])\n",
        "print(sum)"
      ],
      "execution_count": null,
      "outputs": []
    },
    {
      "cell_type": "markdown",
      "metadata": {
        "id": "E5luK0lRmZCf"
      },
      "source": [
        "# Trạm thu phí\n",
        "---\n",
        "\n",
        "## Abstraction\n",
        "---\n",
        "Cho 1 mảng, hãy tìm phần tử thứ a và b sao cho tổng của những phần tử giữa chúng có giá trị lớn nhất \n",
        "## Pattern Recognition\n",
        "---\n",
        "Tìm kiếm tuyến tính\n",
        "## Algorithm Design\n",
        "---\n",
        "<ul type = \"none\" >\n",
        "\n",
        "<li>Tạo biến </li>\n",
        "  <ul>\n",
        "    <li>max_so_far bằng giá trị âm nhỏ nhất </li>\n",
        "    <li>start,end,s,max_end_here = 0</li>\n",
        "  </ul>\n",
        "<li>Lặp từng phần tử trong mảng:</li>\n",
        "  <ul>\n",
        "\t  <li>max_end_here = max_end_here + phần tử thứ trong mảng </li>\n",
        "\t  <li>nếu max_so_far < max_end_here</li>\n",
        "      <ul>\n",
        "       <li> max_so_far = max_end_here</li>\n",
        "       <li> start = s </li>\n",
        "        <li>end = i\n",
        "      </ul>\n",
        "\t  <li>nếu max_end_here < 0 </li>\n",
        "        <ul>\n",
        "          <li>max_end_here = 0</li>\n",
        "          <li>s = s + 1</li>\n",
        "        </ul>\n",
        "      </ul>\n",
        "\t<li>Trả về start+1, end+1, max_so_far</li>\n",
        "  </ul>\n",
        "\n",
        "## Complexity\n",
        "---\n",
        "  <ul>\n",
        "\t<li>time complexity:O(n)</li>\n",
        "\t<li>space complexity:O(1)</li>\n",
        "  <ul>"
      ]
    },
    {
      "cell_type": "code",
      "metadata": {
        "id": "nMCh51qRnr8u"
      },
      "source": [
        "from sys import maxsize\n",
        "def ConstructionProfit(a, size):\n",
        "    max_so_far = -maxsize - 1\n",
        "    max_ending_here = 0\n",
        "    start = 0\n",
        "    end = 0\n",
        "    s = 0\n",
        "    for i in range(0, size):\n",
        "\n",
        "        max_ending_here += a[i]\n",
        "\n",
        "        if max_so_far < max_ending_here:\n",
        "            max_so_far = max_ending_here\n",
        "            start = s\n",
        "            end = i\n",
        "        if max_ending_here < 0:\n",
        "            max_ending_here = 0\n",
        "            s = i + 1\n",
        "\n",
        "    print(start+1,\" \",end+1,\" \",max_so_far)\n",
        "\n",
        "n=int(input())\n",
        "input_string = input()\n",
        "List=input_string.split()\n",
        "for i in range(len(List)):\n",
        "    List[i] = int(List[i])\n",
        "ConstructionProfit(List,len(List))"
      ],
      "execution_count": null,
      "outputs": []
    }
  ]
}