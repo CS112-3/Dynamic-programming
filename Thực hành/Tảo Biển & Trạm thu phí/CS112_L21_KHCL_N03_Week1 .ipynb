{
  "nbformat": 4,
  "nbformat_minor": 0,
  "metadata": {
    "colab": {
      "name": "CS112_L21_KHCL_N03_Week1.ipynb",
      "provenance": [],
      "collapsed_sections": []
    },
    "kernelspec": {
      "name": "python3",
      "display_name": "Python 3"
    },
    "language_info": {
      "name": "python"
    }
  },
  "cells": [
    {
      "cell_type": "markdown",
      "metadata": {
        "id": "sYKf4e-IaBje"
      },
      "source": [
        "Abstraction:\n",
        "* Tảo biển: cho 2 số n và k, cho dãy số 1,2,5,13,34,..., hãy tìm tích của số thứ k trong dãy số và n</n>\n",
        "* Trạm thu phí: Cho 1 mảng, hãy tìm phần tử thứ a và b sao cho tổng của những phần tử giữa chúng có giá trị lớn nhất \n",
        "\n",
        "\n",
        "Pattern Recognition:\n",
        "\n",
        "* Tảo biển: interation \n",
        "* Trạm thu phí: linear programming \n",
        "\n",
        "Algorithm designed:\n",
        "* Tảo biển\n",
        "<ul type = \"none\" >\n",
        "<li>Nếu n = 0 </li>\n",
        "  <ul>\n",
        "    <li>Trả về 0</li>\n",
        "  </ul>\n",
        "<li>tạo biến a và b, gán giá trị 0 và 1</li>\n",
        "<li>Lặp lại n-1 lần </li>\n",
        "    <ul>\n",
        "      <li>a=b</li>\n",
        "      <li>b=a+b</li>\n",
        "    </ul>\n",
        "trả về b*k\n",
        "  </ul>\n",
        "* Trạm thu phí\n",
        "<ul type = \"none\" >\n",
        "\n",
        "<li>Tạo biến </li>\n",
        "  <ul>\n",
        "    <li>max_so_far bằng giá trị âm nhỏ nhất </li>\n",
        "    <li>start,end,s,max_end_here = 0</li>\n",
        "  </ul>\n",
        "<li>Lặp từng phần tử trong mảng:</li>\n",
        "  <ul>\n",
        "\t  <li>max_end_here = max_end_here + phần tử thứ trong mảng </li>\n",
        "\t  <li>nếu max_so_far < max_end_here</li>\n",
        "      <ul>\n",
        "       <li> max_so_far = max_end_here</li>\n",
        "       <li> start = s </li>\n",
        "        <li>end = i\n",
        "      </ul>\n",
        "\t  <li>nếu max_end_here < 0 </li>\n",
        "        <ul>\n",
        "          <li>max_end_here = 0</li>\n",
        "          <li>s = s + 1</li>\n",
        "        </ul>\n",
        "      </ul>\n",
        "\t<li>Trả về start+1, end+1, max_so_far</li>\n",
        "  </ul>\n",
        "\n",
        "Độ phức tạp:\n",
        "* Tảo biển:\n",
        "  <ul>\n",
        "    <li>time complexity:O(n)</li>\n",
        "    <li>space complexity:O(1)</li>\n",
        "  </ul>\n",
        "* Trạm thu phí:\t\n",
        "  <ul>\n",
        "\t<li>time complexity:O(n)</li>\n",
        "\t<li>space complexity:O(1)</li>\n",
        "\n",
        "\n",
        "\n"
      ]
    }
  ]
}