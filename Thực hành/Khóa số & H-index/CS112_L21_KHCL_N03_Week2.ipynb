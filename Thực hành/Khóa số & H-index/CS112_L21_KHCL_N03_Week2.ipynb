{
  "nbformat": 4,
  "nbformat_minor": 0,
  "metadata": {
    "colab": {
      "name": "CS112_L21_KHCL_N03_Week2.ipynb",
      "provenance": [],
      "collapsed_sections": [],
      "include_colab_link": true
    },
    "kernelspec": {
      "name": "python3",
      "display_name": "Python 3"
    },
    "language_info": {
      "name": "python"
    }
  },
  "cells": [
    {
      "cell_type": "markdown",
      "metadata": {
        "id": "view-in-github",
        "colab_type": "text"
      },
      "source": [
        "<a href=\"https://colab.research.google.com/github/CS112-3/Dynamic-programming/blob/main/Th%E1%BB%B1c%20h%C3%A0nh/Kh%C3%B3a%20s%E1%BB%91%20%26%20H-index/CS112_L21_KHCL_N03_Week2.ipynb\" target=\"_parent\"><img src=\"https://colab.research.google.com/assets/colab-badge.svg\" alt=\"Open In Colab\"/></a>"
      ]
    },
    {
      "cell_type": "markdown",
      "metadata": {
        "id": "QOWpHyTJBIoi"
      },
      "source": [
        "# H_index\n",
        "---\n",
        "Làm thế nào để đánh giá sự thành công của một nhà khoa học?  Dựa vào số bài báo được công bố hay dựa vào số lần một bài báo được trích dẫn tới ở công trình của những người khác? Cả hai tham số đó đều quan trọng.\n",
        "\n",
        "Một bài báo có điểm số trích dẫn là c nếu nó được trích dẫn tới c lần trong các công trình của những nhà khoa học khác. Một trong số các cách đánh giá sự thành công của một nhà khoa học là tính chỉ số ảnh hưởng H_Index dựa trên sự kết hợp giữa số lượng bài báo và chỉ số trích dẫn của các bài báo đó.\n",
        "\n",
        "Chỉ số H_Indexcủa một nhà khoa học bằng k lớn nhất nếu người đó có k bài báo, mỗi bài có điểm số trích dẫn không nhỏ hơn k. Ví dụ, một người có 10 bài báo, mỗi bài báo được trích dẫn không dưới 10 lần thì H_Index của người đó ít nhất là bằng 10.\n",
        "\n",
        "Một người có n bài báo, bài báo thứ i có điểm trích dẫn là ci, i = 1 ÷ n. Hãy xác định H_Index của người đó.\n",
        "\n",
        "Dữ liệu: Vào từ thiết bị nhập chuẩn:\n",
        "\n",
        "Dòng đầu tiên chứa một số nguyên n (1 ≤ n ≤ 5×105)\n",
        "\n",
        "Dòng thứ 2 chứa n số nguyên c1, c2, . . ., cn (0 ≤ ci ≤ 106, i = 1 ÷ n).\n",
        "\n",
        "Kết quả: Đưa ra thiết bị xuất chuẩn một số nguyên – H_Index tìm được.\n",
        "\n",
        "INPUT : 5 8 5 3 4 10\n",
        "\n",
        "OUTPUT : 4\n",
        "## Abstraction\n",
        "---\n",
        " Cho n phần tử, tìm một số lớn nhất sao cho số đó phải nhỏ hơn hoặc bằng n và phải xuất hiện n lần hoặc hơn trong mảng\n",
        "\n",
        "# Pattern Recognition:\n",
        "---\n",
        "bảng băm\n",
        "# Algorithm designed\n",
        "---\n",
        "  * Tạo một mảng gồm n+1 phần tử chứa giá trị 0\n",
        "  * Lặp từng phần tử của mảng\n",
        "\t    * nếu phần tử lớn hơn n thì tăng giá trị của phần tử thứ n+1 lên 1\n",
        "\t    * còn không thì tăng giá trị của phẩn tử thứ (giá trị phần tử đang truy xuất) lên 1\n",
        "  * Cho y = độ dài của mảng vừa tạo -1\n",
        "  * Cộng dồn giá trị của mảng vừa được tính toán từ ngoài vào\n",
        "  * nếu giá trị  >= y thì hoàn tất \n",
        "  * còn không thì y=y-1\n",
        "# Đánh giá độ phức tạp thuật toán\n",
        "---\n",
        "Time complexity :O(n)\n",
        "\n"
      ]
    },
    {
      "cell_type": "code",
      "metadata": {
        "id": "TGN5FD7RYJz4"
      },
      "source": [
        "def H_dex(n,List):\n",
        "    Temp = [0] * (n + 1)\n",
        "    for i in range(len(List)):\n",
        "        List[i] = int(List[i]) % 1000007\n",
        "        if (List[i]) >= n:\n",
        "            Temp[n] = Temp[n] + 1\n",
        "        else:\n",
        "            Temp[List[i]] = Temp[List[i]] + 1\n",
        "    del List\n",
        "    x = 0\n",
        "    y = len(Temp) - 1\n",
        "    for i in reversed(Temp):\n",
        "        x = x + i\n",
        "        if x >= y:\n",
        "            break\n",
        "        y = y - 1\n",
        "    del Temp\n",
        "    return y\n",
        "\n",
        "n = int(input())% 1000007\n",
        "input_string = input()\n",
        "List=input_string.split()\n",
        "print(H_dex(n,List))"
      ],
      "execution_count": null,
      "outputs": []
    },
    {
      "cell_type": "markdown",
      "metadata": {
        "id": "QgWWQ8mmYGCl"
      },
      "source": [
        "# KHÓA SỐ\n",
        "---\n",
        "Để tăng độ an toàn chống hiện tượng cướp ngân hàng ngày càng phổ biến người ta dùng khóa số với mã mở khóa đơn giản nhưng rất hiệu quả. Trên cửa ra vào hiển thị một xâu khá dài các ký tự số. Các chữ số có thể di chuyển đổi chổ cho nhau hoặc bị xóa. Muốn mở khóa người ta phải di chuyển các chữ số và trong trường hợp cần thiết – xóa vài chữ số để nhận được xâu lớn nhất thỏa mãn điều kiện đã cài đặt. Điều kiện này được thay đổi thường xuyên. Hôm nay điều kiện đó là “Số nhận được phải chia hết cho 3”. Số nhận được có thể bắt đầu bằng các chữ số 0. Xâu “000” sẽ lớn hơn xâu “00”.\n",
        "\n",
        "Hãy xác định khóa mở cửa.\n",
        "\n",
        "Dữ liệu: Vào từ thiết bị nhập chuẩn gồm một xâu ký tự số có độ dài lớn hơn 2 và không vượt quá 105.\n",
        "\n",
        "Kết quả: Đưa ra thiết bị xuất chuẩn xâu khóa mở cửa.\n",
        "\n",
        "    INPUT :105\n",
        "\n",
        "    OUTPUT:510\n",
        "# Abstraction\n",
        "---\n",
        "Cho một xâu, xuất ra một xâu lớn nhất và phải chia hết cho 3 ( có thể xóa phần tử trong xâu để có thể được chia hết cho 3)\n",
        "\n",
        "# Pattern Recognition\n",
        "---\n",
        "sắp xếp, tìm kiếm phần tử mảng\n",
        "# Algorithm designed\n",
        "---\n",
        "  * Sắp xếp mảng từ lớn đến bé\n",
        "  * Nếu tổng của các phần tử mảng chia hết cho 3 thì xuất mảng \n",
        "  * Còn không thì \n",
        "\t* Tạo một mảng lưu vị trí mảng cần xóa A\n",
        "\t* Lặp từng phần tử của mảng\n",
        "          Nếu (giá trị phần tử % 3) == (tổng của các phần tử mảng % 3)\n",
        "            xóa phần tử đó\n",
        "            Xuất mảng\n",
        "          Nếu độ dài của A != 2 và (3-(tổng của các phần tử mảng % 3) ) == (giá trị phần tử % 3)\n",
        "            Thêm vị trí phần tử đó vào mảng A\n",
        "\n",
        "  * Xóa phần tử mảng thứ A[0] và A[1]\n",
        "  * Xuất mảng\n",
        "# Đánh giá độ phức tạp thuật toán\n",
        "---\n",
        "Time complexity :O(n)"
      ]
    },
    {
      "cell_type": "code",
      "metadata": {
        "id": "sedNBny8YYZa"
      },
      "source": [
        "def connect(List):\n",
        "    listToStr = ''.join([str(elem) for elem in List])\n",
        "    return listToStr\n",
        "def helper(s):\n",
        "    a=int(s)\n",
        "    List=sorted(s, reverse=True)\n",
        "    a = a % 3\n",
        "    if a == 0:\n",
        "        return connect(List)\n",
        "    else:\n",
        "        Pop = []\n",
        "        for i in range(len(List)-1,-1,-1):\n",
        "            t = int(List[i])\n",
        "            if (t % 3) == a :\n",
        "                List.pop(i)\n",
        "                return connect(List)\n",
        "            elif 2 != len(Pop):\n",
        "                if 3 - a == t % 3:\n",
        "                    Pop.append(i)\n",
        "        List.pop(Pop[0])\n",
        "        List.pop(Pop[1])\n",
        "    return connect(List)\n",
        "\n",
        "t=input().strip()\n",
        "print(helper(t))"
      ],
      "execution_count": null,
      "outputs": []
    }
  ]
}